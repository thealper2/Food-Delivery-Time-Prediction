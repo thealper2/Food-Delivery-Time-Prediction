{
 "cells": [
  {
   "cell_type": "code",
   "execution_count": 1,
   "id": "ab1c18a4",
   "metadata": {},
   "outputs": [
    {
     "data": {
      "text/html": [
       "        <script type=\"text/javascript\">\n",
       "        window.PlotlyConfig = {MathJaxConfig: 'local'};\n",
       "        if (window.MathJax && window.MathJax.Hub && window.MathJax.Hub.Config) {window.MathJax.Hub.Config({SVG: {font: \"STIX-Web\"}});}\n",
       "        if (typeof require !== 'undefined') {\n",
       "        require.undef(\"plotly\");\n",
       "        requirejs.config({\n",
       "            paths: {\n",
       "                'plotly': ['https://cdn.plot.ly/plotly-2.20.0.min']\n",
       "            }\n",
       "        });\n",
       "        require(['plotly'], function(Plotly) {\n",
       "            window._Plotly = Plotly;\n",
       "        });\n",
       "        }\n",
       "        </script>\n",
       "        "
      ]
     },
     "metadata": {},
     "output_type": "display_data"
    }
   ],
   "source": [
    "import pandas as pd\n",
    "import numpy as np\n",
    "import plotly.express as px\n",
    "import matplotlib.pyplot as plt\n",
    "from keras.models import Sequential\n",
    "from keras.layers import Dense, LSTM\n",
    "from sklearn.model_selection import train_test_split\n",
    "from plotly.offline import init_notebook_mode\n",
    "init_notebook_mode(connected=True)"
   ]
  },
  {
   "cell_type": "code",
   "execution_count": 2,
   "id": "ca53ceab",
   "metadata": {},
   "outputs": [],
   "source": [
    "df = pd.read_csv(\"train.csv\")"
   ]
  },
  {
   "cell_type": "code",
   "execution_count": null,
   "id": "0b8410cc",
   "metadata": {},
   "outputs": [],
   "source": [
    "df.info()"
   ]
  },
  {
   "cell_type": "code",
   "execution_count": null,
   "id": "e88ad274",
   "metadata": {},
   "outputs": [],
   "source": [
    "df = df.drop([\"Order_Date\", \"Time_Orderd\", \"Time_Order_picked\", \"Weatherconditions\", \n",
    "              \"Road_traffic_density\", \"Vehicle_condition\", \"multiple_deliveries\", \n",
    "              \"Festival\", \"City\"], axis=1)"
   ]
  },
  {
   "cell_type": "code",
   "execution_count": 5,
   "id": "de3a7917",
   "metadata": {},
   "outputs": [
    {
     "data": {
      "text/plain": [
       "ID                             0\n",
       "Delivery_person_ID             0\n",
       "Delivery_person_Age            0\n",
       "Delivery_person_Ratings        0\n",
       "Restaurant_latitude            0\n",
       "Restaurant_longitude           0\n",
       "Delivery_location_latitude     0\n",
       "Delivery_location_longitude    0\n",
       "Type_of_order                  0\n",
       "Type_of_vehicle                0\n",
       "Time_taken(min)                0\n",
       "dtype: int64"
      ]
     },
     "execution_count": 5,
     "metadata": {},
     "output_type": "execute_result"
    }
   ],
   "source": [
    "df.isnull().sum()"
   ]
  },
  {
   "cell_type": "code",
   "execution_count": 7,
   "id": "4099e2bc",
   "metadata": {},
   "outputs": [],
   "source": [
    "def distance(rest_lat, rest_lon, del_lat, del_lon):\n",
    "    dist_lat = (del_lat - rest_lat) * (np.pi / 180)\n",
    "    dist_lon = (del_lon - rest_lon) * (np.pi / 180)\n",
    "    a = pow(np.sin(dist_lat / 2), 2) + np.cos(rest_lat * (np.pi/180)) * np.cos(del_lat * (np.pi / 180)) * pow(np.sin(dist_lon / 2), 2)\n",
    "    c = 2 * np.arctan2(np.sqrt(a), np.sqrt(1-a))\n",
    "    return 6371 * c"
   ]
  },
  {
   "cell_type": "code",
   "execution_count": 8,
   "id": "7ebf1216",
   "metadata": {},
   "outputs": [],
   "source": [
    "for i in range(len(df)):\n",
    "    df.loc[i, 'distance'] = distance(df.loc[i, \"Restaurant_latitude\"], \n",
    "                                     df.loc[i, \"Restaurant_longitude\"],\n",
    "                                     df.loc[i, \"Delivery_location_latitude\"],\n",
    "                                     df.loc[i, \"Delivery_location_longitude\"])"
   ]
  },
  {
   "cell_type": "code",
   "execution_count": null,
   "id": "c2393317",
   "metadata": {},
   "outputs": [],
   "source": [
    "df[\"Time_taken(min)\"] = df[\"Time_taken(min)\"].str.replace(\"min\", \"\")\n",
    "df[\"Time_taken(min)\"] = df[\"Time_taken(min)\"].str.replace(\"(\", \"\")\n",
    "df[\"Time_taken(min)\"] = df[\"Time_taken(min)\"].str.replace(\")\", \"\")"
   ]
  },
  {
   "cell_type": "code",
   "execution_count": 129,
   "id": "5924d54d",
   "metadata": {},
   "outputs": [],
   "source": [
    "df[\"Time_taken(min)\"] = df[\"Time_taken(min)\"].astype(\"int\")"
   ]
  },
  {
   "cell_type": "code",
   "execution_count": 132,
   "id": "f03d87ed",
   "metadata": {},
   "outputs": [],
   "source": [
    "#df[\"Delivery_person_Age\"] = df[\"Delivery_person_Age\"].astype(\"float\")"
   ]
  },
  {
   "cell_type": "code",
   "execution_count": null,
   "id": "14d8cb35",
   "metadata": {},
   "outputs": [],
   "source": [
    "fig = px.scatter(df, x=\"distance\", y=\"Time_taken(min)\", size=\"Time_taken(min)\", trendline=\"ols\")\n",
    "fig.show()"
   ]
  },
  {
   "cell_type": "code",
   "execution_count": null,
   "id": "c7bbf62c",
   "metadata": {},
   "outputs": [],
   "source": [
    "plt.scatter(df[\"Time_taken(min)\"], df[\"distance\"])\n",
    "plt.show()"
   ]
  },
  {
   "cell_type": "code",
   "execution_count": null,
   "id": "9b4321b7",
   "metadata": {},
   "outputs": [],
   "source": [
    "fig = px.box(df, x=\"Type_of_vehicle\", y=\"Time_taken(min)\", color=\"Type_of_order\")\n",
    "fig.show()"
   ]
  },
  {
   "cell_type": "code",
   "execution_count": 15,
   "id": "ab630e79",
   "metadata": {},
   "outputs": [],
   "source": [
    "X = np.array(df[[\"Delivery_person_Age\", \"Delivery_person_Ratings\", \"distance\"]])\n",
    "y = np.array(df[[\"Time_taken(min)\"]])"
   ]
  },
  {
   "cell_type": "code",
   "execution_count": 16,
   "id": "40157bdd",
   "metadata": {},
   "outputs": [],
   "source": [
    "X_train, X_test, y_train, y_test = train_test_split(X, y, test_size=0.1, random_state=4242)"
   ]
  },
  {
   "cell_type": "code",
   "execution_count": 17,
   "id": "2072ada3",
   "metadata": {},
   "outputs": [],
   "source": [
    "model = Sequential([\n",
    "    LSTM(128, return_sequences=True, input_shape=(3, 1)),\n",
    "    LSTM(64, return_sequences=False),\n",
    "    Dense(25),\n",
    "    Dense(1)\n",
    "])\n",
    "\n",
    "model.compile(optimizer=\"adam\", loss=\"mean_squared_error\")"
   ]
  },
  {
   "cell_type": "code",
   "execution_count": 18,
   "id": "5cbbc269",
   "metadata": {},
   "outputs": [
    {
     "name": "stdout",
     "output_type": "stream",
     "text": [
      "Model: \"sequential\"\n",
      "_________________________________________________________________\n",
      " Layer (type)                Output Shape              Param #   \n",
      "=================================================================\n",
      " lstm (LSTM)                 (None, 3, 128)            66560     \n",
      "                                                                 \n",
      " lstm_1 (LSTM)               (None, 64)                49408     \n",
      "                                                                 \n",
      " dense (Dense)               (None, 25)                1625      \n",
      "                                                                 \n",
      " dense_1 (Dense)             (None, 1)                 26        \n",
      "                                                                 \n",
      "=================================================================\n",
      "Total params: 117,619\n",
      "Trainable params: 117,619\n",
      "Non-trainable params: 0\n",
      "_________________________________________________________________\n"
     ]
    }
   ],
   "source": [
    "model.summary()"
   ]
  },
  {
   "cell_type": "code",
   "execution_count": 19,
   "id": "eb619cf5",
   "metadata": {},
   "outputs": [
    {
     "name": "stdout",
     "output_type": "stream",
     "text": [
      "Epoch 1/10\n"
     ]
    },
    {
     "name": "stderr",
     "output_type": "stream",
     "text": [
      "2023-05-24 23:36:16.022485: W tensorflow/tsl/platform/profile_utils/cpu_utils.cc:128] Failed to get CPU frequency: 0 Hz\n"
     ]
    },
    {
     "name": "stdout",
     "output_type": "stream",
     "text": [
      "41033/41033 [==============================] - 51s 1ms/step - loss: 69.3854\n",
      "Epoch 2/10\n",
      "41033/41033 [==============================] - 49s 1ms/step - loss: 63.9325\n",
      "Epoch 3/10\n",
      "41033/41033 [==============================] - 49s 1ms/step - loss: 61.2965\n",
      "Epoch 4/10\n",
      "41033/41033 [==============================] - 49s 1ms/step - loss: 60.5055\n",
      "Epoch 5/10\n",
      "41033/41033 [==============================] - 49s 1ms/step - loss: 59.6509\n",
      "Epoch 6/10\n",
      "41033/41033 [==============================] - 49s 1ms/step - loss: 59.2512\n",
      "Epoch 7/10\n",
      "41033/41033 [==============================] - 49s 1ms/step - loss: 59.3134\n",
      "Epoch 8/10\n",
      "41033/41033 [==============================] - 49s 1ms/step - loss: 59.0554\n",
      "Epoch 9/10\n",
      "41033/41033 [==============================] - 49s 1ms/step - loss: 58.5425\n",
      "Epoch 10/10\n",
      "41033/41033 [==============================] - 49s 1ms/step - loss: 58.5398\n"
     ]
    }
   ],
   "source": [
    "history = model.fit(X_train, y_train, batch_size=1, epochs=10)"
   ]
  },
  {
   "cell_type": "code",
   "execution_count": 20,
   "id": "dd8960f9",
   "metadata": {},
   "outputs": [],
   "source": [
    "model.save(\"FDTmodel.h5\")"
   ]
  },
  {
   "cell_type": "code",
   "execution_count": 21,
   "id": "a3293677",
   "metadata": {},
   "outputs": [
    {
     "name": "stdout",
     "output_type": "stream",
     "text": [
      "143/143 [==============================] - 0s 968us/step - loss: 60.9955\n",
      "Test Accuracy:  61.0\n"
     ]
    }
   ],
   "source": [
    "scores = model.evaluate(X_test, y_test)\n",
    "scores = round((scores), 2)\n",
    "print(\"Test Accuracy: \", scores)"
   ]
  },
  {
   "cell_type": "code",
   "execution_count": 22,
   "id": "06feac87",
   "metadata": {},
   "outputs": [
    {
     "name": "stdout",
     "output_type": "stream",
     "text": [
      "1/1 [==============================] - 0s 249ms/step\n",
      "[[23.188303]]\n"
     ]
    }
   ],
   "source": [
    "a = 37\n",
    "b = 4.9\n",
    "c = 3.025149\n",
    "test = np.array([[a,b,c]])\n",
    "print(model.predict(test))"
   ]
  },
  {
   "cell_type": "code",
   "execution_count": 26,
   "id": "730815b4",
   "metadata": {},
   "outputs": [
    {
     "data": {
      "image/png": "[encoded data removed]",
      "text/plain": [
       "<Figure size 640x480 with 1 Axes>"
      ]
     },
     "metadata": {},
     "output_type": "display_data"
    }
   ],
   "source": [
    "plt.figure()\n",
    "plt.plot(history.history[\"loss\"])\n",
    "plt.title(\"Model Accuracy\")\n",
    "plt.xlabel(\"Epochs\")\n",
    "plt.ylabel(\"Accuracy\")\n",
    "plt.legend([\"train\"])\n",
    "plt.show()"
   ]
  },
  {
   "cell_type": "code",
   "execution_count": null,
   "id": "183f9b7e",
   "metadata": {},
   "outputs": [],
   "source": []
  },
  {
   "cell_type": "code",
   "execution_count": null,
   "id": "6a2ba42b",
   "metadata": {},
   "outputs": [],
   "source": []
  }
 ],
 "metadata": {
  "kernelspec": {
   "display_name": "Python 3 (ipykernel)",
   "language": "python",
   "name": "python3"
  },
  "language_info": {
   "codemirror_mode": {
    "name": "ipython",
    "version": 3
   },
   "file_extension": ".py",
   "mimetype": "text/x-python",
   "name": "python",
   "nbconvert_exporter": "python",
   "pygments_lexer": "ipython3",
   "version": "3.8.16"
  }
 },
 "nbformat": 4,
 "nbformat_minor": 5
}
